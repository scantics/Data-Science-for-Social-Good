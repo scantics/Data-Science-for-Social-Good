{
 "cells": [
  {
   "cell_type": "code",
   "execution_count": 1,
   "metadata": {},
   "outputs": [],
   "source": [
    "import pandas as pd\n",
    "import numpy as np\n",
    "import matplotlib.pyplot as plt\n",
    "from matplotlib import cm"
   ]
  },
  {
   "cell_type": "code",
   "execution_count": 2,
   "metadata": {},
   "outputs": [],
   "source": [
    "xlsx = pd.ExcelFile('scc_election.xlsx')"
   ]
  },
  {
   "cell_type": "code",
   "execution_count": 3,
   "metadata": {},
   "outputs": [],
   "source": [
    "table_of_contents = pd.read_excel(xlsx, 0, skiprows=3)"
   ]
  },
  {
   "cell_type": "code",
   "execution_count": 4,
   "metadata": {},
   "outputs": [],
   "source": [
    "scc_primary = {}\n",
    "for i, name in enumerate(table_of_contents['Contest']):\n",
    "    if i == 0:\n",
    "        scc_primary['{}'.format(str(name))] = pd.read_excel(xlsx, i+1)\n",
    "    else:\n",
    "        scc_primary['{}'.format(str(name))] = pd.read_excel(xlsx, i+1, header=[0,1])"
   ]
  },
  {
   "cell_type": "code",
   "execution_count": 5,
   "metadata": {},
   "outputs": [
    {
     "name": "stdout",
     "output_type": "stream",
     "text": [
      "856.506072874\n"
     ]
    }
   ],
   "source": [
    "mean_find = scc_primary['Registered Voters']\n",
    "mean_find.drop(scc_primary['Registered Voters'].tail(1).index,inplace=True)\n",
    "print np.average(mean_find['Registered Voters'])"
   ]
  },
  {
   "cell_type": "code",
   "execution_count": 6,
   "metadata": {},
   "outputs": [
    {
     "name": "stdout",
     "output_type": "stream",
     "text": [
      "There are 48 precincts with over 1340 registered voters.\n"
     ]
    },
    {
     "data": {
      "text/html": [
       "<div>\n",
       "<style>\n",
       "    .dataframe thead tr:only-child th {\n",
       "        text-align: right;\n",
       "    }\n",
       "\n",
       "    .dataframe thead th {\n",
       "        text-align: left;\n",
       "    }\n",
       "\n",
       "    .dataframe tbody tr th {\n",
       "        vertical-align: top;\n",
       "    }\n",
       "</style>\n",
       "<table border=\"1\" class=\"dataframe\">\n",
       "  <thead>\n",
       "    <tr style=\"text-align: right;\">\n",
       "      <th></th>\n",
       "      <th>County</th>\n",
       "      <th>Registered Voters</th>\n",
       "      <th>Ballots Cast</th>\n",
       "      <th>Voter Turnout</th>\n",
       "    </tr>\n",
       "  </thead>\n",
       "  <tbody>\n",
       "    <tr>\n",
       "      <th>25</th>\n",
       "      <td>PCT 1046</td>\n",
       "      <td>1347</td>\n",
       "      <td>404</td>\n",
       "      <td>29.99</td>\n",
       "    </tr>\n",
       "    <tr>\n",
       "      <th>77</th>\n",
       "      <td>PCT 1156</td>\n",
       "      <td>1358</td>\n",
       "      <td>392</td>\n",
       "      <td>28.87</td>\n",
       "    </tr>\n",
       "    <tr>\n",
       "      <th>84</th>\n",
       "      <td>PCT 1200</td>\n",
       "      <td>1374</td>\n",
       "      <td>379</td>\n",
       "      <td>27.58</td>\n",
       "    </tr>\n",
       "    <tr>\n",
       "      <th>110</th>\n",
       "      <td>PCT 1238</td>\n",
       "      <td>1369</td>\n",
       "      <td>197</td>\n",
       "      <td>14.39</td>\n",
       "    </tr>\n",
       "    <tr>\n",
       "      <th>177</th>\n",
       "      <td>PCT 1391</td>\n",
       "      <td>1347</td>\n",
       "      <td>270</td>\n",
       "      <td>20.04</td>\n",
       "    </tr>\n",
       "  </tbody>\n",
       "</table>\n",
       "</div>"
      ],
      "text/plain": [
       "       County  Registered Voters  Ballots Cast  Voter Turnout\n",
       "25   PCT 1046               1347           404          29.99\n",
       "77   PCT 1156               1358           392          28.87\n",
       "84   PCT 1200               1374           379          27.58\n",
       "110  PCT 1238               1369           197          14.39\n",
       "177  PCT 1391               1347           270          20.04"
      ]
     },
     "execution_count": 6,
     "metadata": {},
     "output_type": "execute_result"
    }
   ],
   "source": [
    "reg_vote_min = 1340\n",
    "sig_turnout = scc_primary['Registered Voters'][scc_primary['Registered Voters']['Registered Voters']>reg_vote_min].dropna()\n",
    "sig_turnout.drop(sig_turnout.tail(1).index,inplace=True)\n",
    "sig_turnout.set_index('County')\n",
    "\n",
    "sig_turnout['Voter Turnout'] = [float(str(i).strip('%')) for i in sig_turnout['Voter Turnout']]\n",
    "print \"There are {} precincts with over {} registered voters.\".format(len(sig_turnout), reg_vote_min)\n",
    "sig_turnout.head()"
   ]
  },
  {
   "cell_type": "code",
   "execution_count": 7,
   "metadata": {},
   "outputs": [
    {
     "name": "stderr",
     "output_type": "stream",
     "text": [
      "C:\\ProgramData\\Anaconda2\\lib\\site-packages\\pandas\\core\\reshape\\merge.py:551: UserWarning: merging between different levels can give an unintended result (1 levels on the left, 2 on the right)\n",
      "  warnings.warn(msg, UserWarning)\n"
     ]
    }
   ],
   "source": [
    "sig_turnout_gov = sig_turnout.join(scc_primary['GOVERNOR (Vote For 1)'],\n",
    "                                   on='County', how='left')\n",
    "sig_turnout_gov['Percent Cox'] = sig_turnout_gov['REP - JOHN H. COX', 'Total Votes'] / sig_turnout_gov['Ballots Cast']"
   ]
  },
  {
   "cell_type": "code",
   "execution_count": 8,
   "metadata": {},
   "outputs": [
    {
     "name": "stdout",
     "output_type": "stream",
     "text": [
      "0.245098039216\n",
      "0.0555555555556\n"
     ]
    }
   ],
   "source": [
    "ind_sorted = sig_turnout_gov['Voter Turnout'].sort_values().index\n",
    "colors_ind_sorted = [sig_turnout_gov['Percent Cox'][i] for i in ind_sorted]\n",
    "\n",
    "cox_norm = sig_turnout_gov['Percent Cox'] / max(sig_turnout_gov['Percent Cox'])\n",
    "cox_norm_sorted = colors_ind_sorted / max(sig_turnout_gov['Percent Cox'])\n",
    "\n",
    "color = cm.coolwarm(cox_norm)\n",
    "color_sorted = cm.coolwarm(cox_norm_sorted)\n",
    "\n",
    "print max(sig_turnout_gov['Percent Cox'])\n",
    "print min(sig_turnout_gov['Percent Cox'])"
   ]
  },
  {
   "cell_type": "code",
   "execution_count": 9,
   "metadata": {},
   "outputs": [
    {
     "data": {
      "image/png": "[encoded data removed]",
      "text/plain": [
       "<matplotlib.figure.Figure at 0xdb340f0>"
      ]
     },
     "metadata": {},
     "output_type": "display_data"
    }
   ],
   "source": [
    "fig, ax = plt.subplots(figsize=(21,7))\n",
    "plt.bar(range(len(sig_turnout_gov)),\n",
    "        sig_turnout_gov['Voter Turnout'].sort_values(),\n",
    "        color=color_sorted)\n",
    "plt.axhline(24.32, ls='dashed', c='peru', label='Average Turnout')\n",
    "plt.legend(loc='best')\n",
    "\n",
    "plt.title('Voter Turnout of Precincts with Highest Registered Voter Count')\n",
    "plt.xlabel('Precincts')\n",
    "plt.ylabel('Voter Turnout Percentage')\n",
    "# plt.xticks(range(len(sig_turnout)),sig_turnout['County'], rotation=45)\n",
    "\n",
    "plt.show()"
   ]
  },
  {
   "cell_type": "code",
   "execution_count": 22,
   "metadata": {},
   "outputs": [],
   "source": [
    "result = 0"
   ]
  },
  {
   "cell_type": "code",
   "execution_count": 99,
   "metadata": {},
   "outputs": [
    {
     "name": "stdout",
     "output_type": "stream",
     "text": [
      "220\n"
     ]
    }
   ],
   "source": [
    "result = result + 10\n",
    "print result"
   ]
  },
  {
   "cell_type": "code",
   "execution_count": 24,
   "metadata": {},
   "outputs": [
    {
     "name": "stdout",
     "output_type": "stream",
     "text": [
      "1\n"
     ]
    }
   ],
   "source": []
  },
  {
   "cell_type": "code",
   "execution_count": 12,
   "metadata": {},
   "outputs": [
    {
     "name": "stdout",
     "output_type": "stream",
     "text": [
      "[0, 1, 2, 3, 4, 5, 6, 7, 8, 9]\n"
     ]
    }
   ],
   "source": [
    "print range(10)"
   ]
  },
  {
   "cell_type": "code",
   "execution_count": null,
   "metadata": {},
   "outputs": [],
   "source": []
  },
  {
   "cell_type": "code",
   "execution_count": 20,
   "metadata": {},
   "outputs": [
    {
     "name": "stdout",
     "output_type": "stream",
     "text": [
      "1\n",
      "6\n",
      "3\n",
      "10\n",
      "2\n"
     ]
    }
   ],
   "source": [
    "for number in [1,6,3,10,2]:\n",
    "    print (number)"
   ]
  }
 ],
 "metadata": {
  "kernelspec": {
   "display_name": "Python 2",
   "language": "python",
   "name": "python2"
  },
  "language_info": {
   "codemirror_mode": {
    "name": "ipython",
    "version": 2
   },
   "file_extension": ".py",
   "mimetype": "text/x-python",
   "name": "python",
   "nbconvert_exporter": "python",
   "pygments_lexer": "ipython2",
   "version": "2.7.13"
  }
 },
 "nbformat": 4,
 "nbformat_minor": 2
}
