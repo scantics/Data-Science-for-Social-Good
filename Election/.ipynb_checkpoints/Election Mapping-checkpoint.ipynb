{
 "cells": [
  {
   "cell_type": "code",
   "execution_count": 215,
   "metadata": {},
   "outputs": [],
   "source": [
    "import pandas as pd\n",
    "import numpy as np\n",
    "import matplotlib.pyplot as plt\n",
    "from matplotlib import cm"
   ]
  },
  {
   "cell_type": "code",
   "execution_count": 148,
   "metadata": {},
   "outputs": [],
   "source": [
    "xlsx = pd.ExcelFile('scc_election.xlsx')"
   ]
  },
  {
   "cell_type": "code",
   "execution_count": 149,
   "metadata": {},
   "outputs": [],
   "source": [
    "table_of_contents = pd.read_excel(xlsx, 0, skiprows=3)"
   ]
  },
  {
   "cell_type": "code",
   "execution_count": 377,
   "metadata": {},
   "outputs": [],
   "source": [
    "scc_primary = {}\n",
    "for i, name in enumerate(table_of_contents['Contest']):\n",
    "    if i == 0:\n",
    "        scc_primary['{}'.format(str(name))] = pd.read_excel(xlsx, i+1)\n",
    "    else:\n",
    "        scc_primary['{}'.format(str(name))] = pd.read_excel(xlsx, i+1, header=[0,1])"
   ]
  },
  {
   "cell_type": "code",
   "execution_count": 386,
   "metadata": {},
   "outputs": [
    {
     "name": "stdout",
     "output_type": "stream",
     "text": [
      "862.766326531\n"
     ]
    }
   ],
   "source": [
    "mean_find = scc_primary['Registered Voters']\n",
    "mean_find.drop(scc_primary['Registered Voters'].tail(1).index,inplace=True)\n",
    "print np.average(mean_find['Registered Voters'])"
   ]
  },
  {
   "cell_type": "code",
   "execution_count": 428,
   "metadata": {},
   "outputs": [
    {
     "name": "stdout",
     "output_type": "stream",
     "text": [
      "There are 460 precincts with over 1000 registered voters.\n"
     ]
    },
    {
     "data": {
      "text/html": [
       "<div>\n",
       "<style>\n",
       "    .dataframe thead tr:only-child th {\n",
       "        text-align: right;\n",
       "    }\n",
       "\n",
       "    .dataframe thead th {\n",
       "        text-align: left;\n",
       "    }\n",
       "\n",
       "    .dataframe tbody tr th {\n",
       "        vertical-align: top;\n",
       "    }\n",
       "</style>\n",
       "<table border=\"1\" class=\"dataframe\">\n",
       "  <thead>\n",
       "    <tr style=\"text-align: right;\">\n",
       "      <th></th>\n",
       "      <th>County</th>\n",
       "      <th>Registered Voters</th>\n",
       "      <th>Ballots Cast</th>\n",
       "      <th>Voter Turnout</th>\n",
       "    </tr>\n",
       "  </thead>\n",
       "  <tbody>\n",
       "    <tr>\n",
       "      <th>0</th>\n",
       "      <td>PCT 1001</td>\n",
       "      <td>1338</td>\n",
       "      <td>407</td>\n",
       "      <td>30.42</td>\n",
       "    </tr>\n",
       "    <tr>\n",
       "      <th>1</th>\n",
       "      <td>PCT 1003</td>\n",
       "      <td>1132</td>\n",
       "      <td>357</td>\n",
       "      <td>31.54</td>\n",
       "    </tr>\n",
       "    <tr>\n",
       "      <th>2</th>\n",
       "      <td>PCT 1006</td>\n",
       "      <td>1130</td>\n",
       "      <td>347</td>\n",
       "      <td>30.71</td>\n",
       "    </tr>\n",
       "    <tr>\n",
       "      <th>6</th>\n",
       "      <td>PCT 1011</td>\n",
       "      <td>1152</td>\n",
       "      <td>316</td>\n",
       "      <td>27.43</td>\n",
       "    </tr>\n",
       "    <tr>\n",
       "      <th>7</th>\n",
       "      <td>PCT 1013</td>\n",
       "      <td>1029</td>\n",
       "      <td>301</td>\n",
       "      <td>29.25</td>\n",
       "    </tr>\n",
       "  </tbody>\n",
       "</table>\n",
       "</div>"
      ],
      "text/plain": [
       "     County  Registered Voters  Ballots Cast  Voter Turnout\n",
       "0  PCT 1001               1338           407          30.42\n",
       "1  PCT 1003               1132           357          31.54\n",
       "2  PCT 1006               1130           347          30.71\n",
       "6  PCT 1011               1152           316          27.43\n",
       "7  PCT 1013               1029           301          29.25"
      ]
     },
     "execution_count": 428,
     "metadata": {},
     "output_type": "execute_result"
    }
   ],
   "source": [
    "reg_vote_min = 1000\n",
    "sig_turnout = scc_primary['Registered Voters'][scc_primary['Registered Voters']['Registered Voters']>reg_vote_min].dropna()\n",
    "sig_turnout.drop(sig_turnout.tail(1).index,inplace=True)\n",
    "sig_turnout.set_index('County')\n",
    "\n",
    "sig_turnout['Voter Turnout'] = [float(str(i).strip('%')) for i in sig_turnout['Voter Turnout']]\n",
    "print \"There are {} precincts with over {} registered voters.\".format(len(sig_turnout), reg_vote_min)\n",
    "sig_turnout.head()"
   ]
  },
  {
   "cell_type": "code",
   "execution_count": 425,
   "metadata": {},
   "outputs": [],
   "source": [
    "sig_turnout_gov = sig_turnout.join(scc_primary['GOVERNOR (Vote For 1)'],\n",
    "                                   on='County', how='left')\n",
    "sig_turnout_gov['Percent Cox'] = sig_turnout_gov['REP - JOHN H. COX', 'Total Votes'] / sig_turnout_gov['Ballots Cast']"
   ]
  },
  {
   "cell_type": "code",
   "execution_count": 426,
   "metadata": {},
   "outputs": [
    {
     "name": "stdout",
     "output_type": "stream",
     "text": [
      "0.28\n",
      "0.0208877284595\n"
     ]
    }
   ],
   "source": [
    "ind_sorted = sig_turnout_gov['Voter Turnout'].sort_values().index\n",
    "colors_ind_sorted = [sig_turnout_gov['Percent Cox'][i] for i in ind_sorted]\n",
    "\n",
    "cox_norm = sig_turnout_gov['Percent Cox'] / max(sig_turnout_gov['Percent Cox'])\n",
    "cox_norm_sorted = colors_ind_sorted / max(sig_turnout_gov['Percent Cox'])\n",
    "\n",
    "color = cm.coolwarm(cox_norm)\n",
    "color_sorted = cm.coolwarm(cox_norm_sorted)\n",
    "\n",
    "print max(sig_turnout_gov['Percent Cox'])\n",
    "print min(sig_turnout_gov['Percent Cox'])"
   ]
  },
  {
   "cell_type": "code",
   "execution_count": 429,
   "metadata": {},
   "outputs": [
    {
     "data": {
      "image/png": "[encoded data removed]",
      "text/plain": [
       "<matplotlib.figure.Figure at 0xf5c6320>"
      ]
     },
     "metadata": {},
     "output_type": "display_data"
    }
   ],
   "source": [
    "fig, ax = plt.subplots(figsize=(21,7))\n",
    "plt.bar(range(len(sig_turnout_gov)),\n",
    "        sig_turnout_gov['Voter Turnout'].sort_values(),\n",
    "        color=color_sorted)\n",
    "plt.axhline(24.32, ls='dashed', c='peru', label='Average Turnout')\n",
    "\n",
    "plt.title('Voter Turnout of Precincts with Highest Registered Voter Count')\n",
    "# plt.xticks(range(len(sig_turnout)),sig_turnout['County'], rotation=45)\n",
    "plt.legend()\n",
    "plt.show()"
   ]
  }
 ],
 "metadata": {
  "kernelspec": {
   "display_name": "Python 2",
   "language": "python",
   "name": "python2"
  },
  "language_info": {
   "codemirror_mode": {
    "name": "ipython",
    "version": 2
   },
   "file_extension": ".py",
   "mimetype": "text/x-python",
   "name": "python",
   "nbconvert_exporter": "python",
   "pygments_lexer": "ipython2",
   "version": "2.7.13"
  }
 },
 "nbformat": 4,
 "nbformat_minor": 2
}
